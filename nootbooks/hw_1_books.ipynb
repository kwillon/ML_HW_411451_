{
  "nbformat": 4,
  "nbformat_minor": 0,
  "metadata": {
    "colab": {
      "provenance": [],
      "authorship_tag": "ABX9TyN7tNMVxGN8HcvTNlzoLwM+",
      "include_colab_link": true
    },
    "kernelspec": {
      "name": "python3",
      "display_name": "Python 3"
    },
    "language_info": {
      "name": "python"
    }
  },
  "cells": [
    {
      "cell_type": "markdown",
      "metadata": {
        "id": "view-in-github",
        "colab_type": "text"
      },
      "source": [
        "<a href=\"https://colab.research.google.com/github/kwillon/ML_HW_411451_/blob/master/Kaggle_books.ipynb\" target=\"_parent\"><img src=\"https://colab.research.google.com/assets/colab-badge.svg\" alt=\"Open In Colab\"/></a>"
      ]
    },
    {
      "cell_type": "code",
      "execution_count": 7,
      "metadata": {
        "id": "iBLXa6cQm_kR"
      },
      "outputs": [],
      "source": [
        "import pandas as pd\n",
        "import seaborn as sb\n",
        "import numpy as np\n",
        "import matplotlib\n",
        "import matplotlib.pyplot as plt"
      ]
    },
    {
      "cell_type": "code",
      "source": [
        "df = pd.read_csv(\"/content/books.csv\", error_bad_lines=False)\n",
        "df.info"
      ],
      "metadata": {
        "colab": {
          "base_uri": "https://localhost:8080/"
        },
        "id": "g9iuJfWcnhFa",
        "outputId": "0389b49f-fecb-42dc-f2be-b97e50cb01fb"
      },
      "execution_count": 8,
      "outputs": [
        {
          "output_type": "stream",
          "name": "stderr",
          "text": [
            "<ipython-input-8-1211aa79a881>:1: FutureWarning: The error_bad_lines argument has been deprecated and will be removed in a future version. Use on_bad_lines in the future.\n",
            "\n",
            "\n",
            "  df = pd.read_csv(\"/content/books.csv\", error_bad_lines=False)\n",
            "Skipping line 3350: expected 12 fields, saw 13\n",
            "Skipping line 4704: expected 12 fields, saw 13\n",
            "Skipping line 5879: expected 12 fields, saw 13\n",
            "Skipping line 8981: expected 12 fields, saw 13\n",
            "\n"
          ]
        },
        {
          "output_type": "execute_result",
          "data": {
            "text/plain": [
              "<bound method DataFrame.info of        bookID                                              title  \\\n",
              "0           1  Harry Potter and the Half-Blood Prince (Harry ...   \n",
              "1           2  Harry Potter and the Order of the Phoenix (Har...   \n",
              "2           4  Harry Potter and the Chamber of Secrets (Harry...   \n",
              "3           5  Harry Potter and the Prisoner of Azkaban (Harr...   \n",
              "4           8  Harry Potter Boxed Set  Books 1-5 (Harry Potte...   \n",
              "...       ...                                                ...   \n",
              "11118   45631   Expelled from Eden: A William T. Vollmann Reader   \n",
              "11119   45633                        You Bright and Risen Angels   \n",
              "11120   45634                    The Ice-Shirt (Seven Dreams #1)   \n",
              "11121   45639                                        Poor People   \n",
              "11122   45641                        Las aventuras de Tom Sawyer   \n",
              "\n",
              "                                                 authors  average_rating  \\\n",
              "0                             J.K. Rowling/Mary GrandPré            4.57   \n",
              "1                             J.K. Rowling/Mary GrandPré            4.49   \n",
              "2                                           J.K. Rowling            4.42   \n",
              "3                             J.K. Rowling/Mary GrandPré            4.56   \n",
              "4                             J.K. Rowling/Mary GrandPré            4.78   \n",
              "...                                                  ...             ...   \n",
              "11118  William T. Vollmann/Larry McCaffery/Michael He...            4.06   \n",
              "11119                                William T. Vollmann            4.08   \n",
              "11120                                William T. Vollmann            3.96   \n",
              "11121                                William T. Vollmann            3.72   \n",
              "11122                                         Mark Twain            3.91   \n",
              "\n",
              "             isbn         isbn13 language_code    num_pages  ratings_count  \\\n",
              "0      0439785960  9780439785969           eng          652        2095690   \n",
              "1      0439358078  9780439358071           eng          870        2153167   \n",
              "2      0439554896  9780439554893           eng          352           6333   \n",
              "3      043965548X  9780439655484           eng          435        2339585   \n",
              "4      0439682584  9780439682589           eng         2690          41428   \n",
              "...           ...            ...           ...          ...            ...   \n",
              "11118  1560254416  9781560254416           eng          512            156   \n",
              "11119  0140110879  9780140110876           eng          635            783   \n",
              "11120  0140131965  9780140131963           eng          415            820   \n",
              "11121  0060878827  9780060878825           eng          434            769   \n",
              "11122  8497646983  9788497646987           spa          272            113   \n",
              "\n",
              "       text_reviews_count publication_date        publisher  \n",
              "0                   27591        9/16/2006  Scholastic Inc.  \n",
              "1                   29221         9/1/2004  Scholastic Inc.  \n",
              "2                     244        11/1/2003       Scholastic  \n",
              "3                   36325         5/1/2004  Scholastic Inc.  \n",
              "4                     164        9/13/2004       Scholastic  \n",
              "...                   ...              ...              ...  \n",
              "11118                  20       12/21/2004    Da Capo Press  \n",
              "11119                  56        12/1/1988    Penguin Books  \n",
              "11120                  95         8/1/1993    Penguin Books  \n",
              "11121                 139        2/27/2007             Ecco  \n",
              "11122                  12        5/28/2006    Edimat Libros  \n",
              "\n",
              "[11123 rows x 12 columns]>"
            ]
          },
          "metadata": {},
          "execution_count": 8
        }
      ]
    }
  ]
}
