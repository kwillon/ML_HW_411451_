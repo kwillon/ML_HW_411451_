{
  "nbformat": 4,
  "nbformat_minor": 0,
  "metadata": {
    "colab": {
      "provenance": []
    },
    "kernelspec": {
      "name": "python3",
      "display_name": "Python 3"
    },
    "language_info": {
      "name": "python"
    }
  },
  "cells": [
    {
      "cell_type": "markdown",
      "source": [
        "# Загрузка данных"
      ],
      "metadata": {
        "id": "1oESEkLOwPNT"
      }
    },
    {
      "cell_type": "markdown",
      "source": [
        "https://drive.google.com/file/d/1CqK8IzFg5AD_T406-enYQdlzBUaHnbUc/view?usp=sharing - ссылка на архив, в котором находятся данные, что были преобразованы в одобренной hw1 (https://github.com/kwillon/ML_HW_411451_/blob/052ba9b3770f3defd3ff98005b4f53327096e8df/Credit.ipynb)"
      ],
      "metadata": {
        "id": "UdpnAC-GSZ0v"
      }
    },
    {
      "cell_type": "code",
      "execution_count": 2,
      "metadata": {
        "colab": {
          "base_uri": "https://localhost:8080/"
        },
        "id": "mc55WDCArCGE",
        "outputId": "5536b151-46e3-4e67-9f82-3b74d5201a49"
      },
      "outputs": [
        {
          "output_type": "stream",
          "name": "stdout",
          "text": [
            "/usr/local/lib/python3.10/dist-packages/gdown/cli.py:121: FutureWarning: Option `--id` was deprecated in version 4.3.1 and will be removed in 5.0. You don't need to pass it anymore to use a file ID.\n",
            "  warnings.warn(\n",
            "Downloading...\n",
            "From: https://drive.google.com/uc?id=1CqK8IzFg5AD_T406-enYQdlzBUaHnbUc\n",
            "To: /content/Credit_data_encod.zip\n",
            "100% 1.33M/1.33M [00:00<00:00, 25.9MB/s]\n"
          ]
        }
      ],
      "source": [
        "! gdown --id 1CqK8IzFg5AD_T406-enYQdlzBUaHnbUc #архив в гугле"
      ]
    },
    {
      "cell_type": "code",
      "source": [
        "! unzip /content/Credit_data_encod.zip #распаковка архива"
      ],
      "metadata": {
        "id": "nyCpqY8-rEs1",
        "colab": {
          "base_uri": "https://localhost:8080/"
        },
        "outputId": "e135ad8c-33f4-4681-fb31-f0b38cb34dd9"
      },
      "execution_count": 3,
      "outputs": [
        {
          "output_type": "stream",
          "name": "stdout",
          "text": [
            "Archive:  /content/Credit_data_encod.zip\n",
            "  inflating: test_output.csv         \n",
            "  inflating: train_output.csv        \n"
          ]
        }
      ]
    },
    {
      "cell_type": "markdown",
      "source": [
        "# Скачивание инcтрументов"
      ],
      "metadata": {
        "id": "5RfSEfv5wVza"
      }
    },
    {
      "cell_type": "markdown",
      "source": [
        "Как стало понятно из первого домашнего задания у нас задача классификации, что предпологает обучение с учителем и как частный случай модель логистичесйкой регрессиия, метрики accuracy, F-меры, confusion matrix."
      ],
      "metadata": {
        "id": "zr_yfgkWS1ha"
      }
    },
    {
      "cell_type": "code",
      "source": [
        "import pandas as pd\n",
        "import numpy as np\n",
        "import seaborn as sns\n",
        "\n",
        "\n",
        "from matplotlib import pyplot as plt\n",
        "from matplotlib.cbook import boxplot_stats\n",
        "\n",
        "\n",
        "import warnings\n",
        "warnings.simplefilter('ignore')\n",
        "\n",
        "\n",
        "from sklearn.model_selection import train_test_split\n",
        "from sklearn.dummy import DummyClassifier\n",
        "from sklearn.linear_model import LogisticRegression"
      ],
      "metadata": {
        "id": "pzzuPkpbrHik"
      },
      "execution_count": 4,
      "outputs": []
    },
    {
      "cell_type": "code",
      "source": [
        "from sklearn.preprocessing import StandardScaler\n",
        "\n",
        "from sklearn.metrics import confusion_matrix, precision_score, recall_score\n",
        "from sklearn.metrics import accuracy_score\n",
        "from sklearn.metrics import confusion_matrix, classification_report"
      ],
      "metadata": {
        "id": "mUfEv0evXcvI"
      },
      "execution_count": 5,
      "outputs": []
    },
    {
      "cell_type": "code",
      "source": [
        "from sklearn.metrics import f1_score, fbeta_score\n",
        "from sklearn.metrics import precision_recall_curve"
      ],
      "metadata": {
        "id": "djuRtSyCi5SD"
      },
      "execution_count": 6,
      "outputs": []
    },
    {
      "cell_type": "code",
      "source": [
        "from sklearn.pipeline import Pipeline\n",
        "from sklearn.model_selection import GridSearchCV"
      ],
      "metadata": {
        "id": "ttTtr_YMBVgs"
      },
      "execution_count": 7,
      "outputs": []
    },
    {
      "cell_type": "markdown",
      "source": [
        "Вытаскиванием все данные"
      ],
      "metadata": {
        "id": "d9RVMeNewbVi"
      }
    },
    {
      "cell_type": "code",
      "source": [
        "df_train = pd.read_csv(\"/content/train_output.csv\")\n",
        "df_test = pd.read_csv(\"/content/test_output.csv\")"
      ],
      "metadata": {
        "id": "uPs_6lObsudu"
      },
      "execution_count": 8,
      "outputs": []
    },
    {
      "cell_type": "markdown",
      "source": [
        "Проверим содержимое файлов.\n",
        "Как видно все параметры имеют численный тип данных и не имеют пропусков.\n",
        "Все данные были приведены к диапазонам 0-1 в предыдущем задании ссылка, на которое есть выше. То есть все наши данные нормализованы.\n",
        "\n",
        "Для колонок ('age', 'balance', 'duration', 'day', 'campaign'), что были численными, был использован MinMaxScaler с диапазоном 0-1.\n",
        "А ('default', 'housing',\t'loan',\t'y') были перекодированы через генераторы, так были категориальными и имели только значения \"yes-no\"."
      ],
      "metadata": {
        "id": "5tEX_VhCW371"
      }
    },
    {
      "cell_type": "code",
      "source": [
        "df_test"
      ],
      "metadata": {
        "colab": {
          "base_uri": "https://localhost:8080/",
          "height": 461
        },
        "id": "o7PmvWRIXhqB",
        "outputId": "14ac77fc-a214-4aad-99c6-cce4fb4ae19c"
      },
      "execution_count": 9,
      "outputs": [
        {
          "output_type": "execute_result",
          "data": {
            "text/plain": [
              "      Unnamed: 0       age  marital   balance  housing  loan       day  \\\n",
              "0              0  0.161765        1  0.068455        0     0  0.600000   \n",
              "1              1  0.205882        1  0.108750        1     1  0.333333   \n",
              "2              2  0.235294        0  0.062590        1     0  0.500000   \n",
              "3              3  0.161765        1  0.064281        1     1  0.066667   \n",
              "4              4  0.588235        1  0.044469        1     0  0.133333   \n",
              "...          ...       ...      ...       ...      ...   ...       ...   \n",
              "4516        4516  0.205882        1  0.039999        1     0  0.966667   \n",
              "4517        4517  0.558824        1  0.000000        1     1  0.266667   \n",
              "4518        4518  0.558824        1  0.048429        0     0  0.600000   \n",
              "4519        4519  0.132353        1  0.059731        0     0  0.166667   \n",
              "4520        4520  0.367647        0  0.059717        1     1  0.066667   \n",
              "\n",
              "      duration  campaign  y  ...  month_jun  month_mar  month_may  month_nov  \\\n",
              "0     0.024826  0.000000  0  ...          0          0          0          0   \n",
              "1     0.071500  0.000000  0  ...          0          0          1          0   \n",
              "2     0.059914  0.000000  0  ...          0          0          0          0   \n",
              "3     0.064548  0.061224  0  ...          1          0          0          0   \n",
              "4     0.073486  0.000000  0  ...          0          0          1          0   \n",
              "...        ...       ... ..  ...        ...        ...        ...        ...   \n",
              "4516  0.107580  0.081633  0  ...          0          0          0          0   \n",
              "4517  0.049321  0.000000  0  ...          0          0          1          0   \n",
              "4518  0.048659  0.204082  0  ...          0          0          0          0   \n",
              "4519  0.041377  0.061224  0  ...          0          0          0          0   \n",
              "4520  0.112877  0.020408  0  ...          0          0          0          0   \n",
              "\n",
              "      month_oct  month_sep  poutcome_failure  poutcome_other  \\\n",
              "0             1          0                 0               0   \n",
              "1             0          0                 1               0   \n",
              "2             0          0                 1               0   \n",
              "3             0          0                 0               0   \n",
              "4             0          0                 0               0   \n",
              "...         ...        ...               ...             ...   \n",
              "4516          0          0                 0               0   \n",
              "4517          0          0                 0               0   \n",
              "4518          0          0                 0               0   \n",
              "4519          0          0                 0               1   \n",
              "4520          0          0                 0               1   \n",
              "\n",
              "      poutcome_success  poutcome_unknown  \n",
              "0                    0                 1  \n",
              "1                    0                 0  \n",
              "2                    0                 0  \n",
              "3                    0                 1  \n",
              "4                    0                 1  \n",
              "...                ...               ...  \n",
              "4516                 0                 1  \n",
              "4517                 0                 1  \n",
              "4518                 0                 1  \n",
              "4519                 0                 0  \n",
              "4520                 0                 0  \n",
              "\n",
              "[4521 rows x 53 columns]"
            ],
            "text/html": [
              "\n",
              "  <div id=\"df-83bb1008-3534-4497-930b-9859800ef9f3\" class=\"colab-df-container\">\n",
              "    <div>\n",
              "<style scoped>\n",
              "    .dataframe tbody tr th:only-of-type {\n",
              "        vertical-align: middle;\n",
              "    }\n",
              "\n",
              "    .dataframe tbody tr th {\n",
              "        vertical-align: top;\n",
              "    }\n",
              "\n",
              "    .dataframe thead th {\n",
              "        text-align: right;\n",
              "    }\n",
              "</style>\n",
              "<table border=\"1\" class=\"dataframe\">\n",
              "  <thead>\n",
              "    <tr style=\"text-align: right;\">\n",
              "      <th></th>\n",
              "      <th>Unnamed: 0</th>\n",
              "      <th>age</th>\n",
              "      <th>marital</th>\n",
              "      <th>balance</th>\n",
              "      <th>housing</th>\n",
              "      <th>loan</th>\n",
              "      <th>day</th>\n",
              "      <th>duration</th>\n",
              "      <th>campaign</th>\n",
              "      <th>y</th>\n",
              "      <th>...</th>\n",
              "      <th>month_jun</th>\n",
              "      <th>month_mar</th>\n",
              "      <th>month_may</th>\n",
              "      <th>month_nov</th>\n",
              "      <th>month_oct</th>\n",
              "      <th>month_sep</th>\n",
              "      <th>poutcome_failure</th>\n",
              "      <th>poutcome_other</th>\n",
              "      <th>poutcome_success</th>\n",
              "      <th>poutcome_unknown</th>\n",
              "    </tr>\n",
              "  </thead>\n",
              "  <tbody>\n",
              "    <tr>\n",
              "      <th>0</th>\n",
              "      <td>0</td>\n",
              "      <td>0.161765</td>\n",
              "      <td>1</td>\n",
              "      <td>0.068455</td>\n",
              "      <td>0</td>\n",
              "      <td>0</td>\n",
              "      <td>0.600000</td>\n",
              "      <td>0.024826</td>\n",
              "      <td>0.000000</td>\n",
              "      <td>0</td>\n",
              "      <td>...</td>\n",
              "      <td>0</td>\n",
              "      <td>0</td>\n",
              "      <td>0</td>\n",
              "      <td>0</td>\n",
              "      <td>1</td>\n",
              "      <td>0</td>\n",
              "      <td>0</td>\n",
              "      <td>0</td>\n",
              "      <td>0</td>\n",
              "      <td>1</td>\n",
              "    </tr>\n",
              "    <tr>\n",
              "      <th>1</th>\n",
              "      <td>1</td>\n",
              "      <td>0.205882</td>\n",
              "      <td>1</td>\n",
              "      <td>0.108750</td>\n",
              "      <td>1</td>\n",
              "      <td>1</td>\n",
              "      <td>0.333333</td>\n",
              "      <td>0.071500</td>\n",
              "      <td>0.000000</td>\n",
              "      <td>0</td>\n",
              "      <td>...</td>\n",
              "      <td>0</td>\n",
              "      <td>0</td>\n",
              "      <td>1</td>\n",
              "      <td>0</td>\n",
              "      <td>0</td>\n",
              "      <td>0</td>\n",
              "      <td>1</td>\n",
              "      <td>0</td>\n",
              "      <td>0</td>\n",
              "      <td>0</td>\n",
              "    </tr>\n",
              "    <tr>\n",
              "      <th>2</th>\n",
              "      <td>2</td>\n",
              "      <td>0.235294</td>\n",
              "      <td>0</td>\n",
              "      <td>0.062590</td>\n",
              "      <td>1</td>\n",
              "      <td>0</td>\n",
              "      <td>0.500000</td>\n",
              "      <td>0.059914</td>\n",
              "      <td>0.000000</td>\n",
              "      <td>0</td>\n",
              "      <td>...</td>\n",
              "      <td>0</td>\n",
              "      <td>0</td>\n",
              "      <td>0</td>\n",
              "      <td>0</td>\n",
              "      <td>0</td>\n",
              "      <td>0</td>\n",
              "      <td>1</td>\n",
              "      <td>0</td>\n",
              "      <td>0</td>\n",
              "      <td>0</td>\n",
              "    </tr>\n",
              "    <tr>\n",
              "      <th>3</th>\n",
              "      <td>3</td>\n",
              "      <td>0.161765</td>\n",
              "      <td>1</td>\n",
              "      <td>0.064281</td>\n",
              "      <td>1</td>\n",
              "      <td>1</td>\n",
              "      <td>0.066667</td>\n",
              "      <td>0.064548</td>\n",
              "      <td>0.061224</td>\n",
              "      <td>0</td>\n",
              "      <td>...</td>\n",
              "      <td>1</td>\n",
              "      <td>0</td>\n",
              "      <td>0</td>\n",
              "      <td>0</td>\n",
              "      <td>0</td>\n",
              "      <td>0</td>\n",
              "      <td>0</td>\n",
              "      <td>0</td>\n",
              "      <td>0</td>\n",
              "      <td>1</td>\n",
              "    </tr>\n",
              "    <tr>\n",
              "      <th>4</th>\n",
              "      <td>4</td>\n",
              "      <td>0.588235</td>\n",
              "      <td>1</td>\n",
              "      <td>0.044469</td>\n",
              "      <td>1</td>\n",
              "      <td>0</td>\n",
              "      <td>0.133333</td>\n",
              "      <td>0.073486</td>\n",
              "      <td>0.000000</td>\n",
              "      <td>0</td>\n",
              "      <td>...</td>\n",
              "      <td>0</td>\n",
              "      <td>0</td>\n",
              "      <td>1</td>\n",
              "      <td>0</td>\n",
              "      <td>0</td>\n",
              "      <td>0</td>\n",
              "      <td>0</td>\n",
              "      <td>0</td>\n",
              "      <td>0</td>\n",
              "      <td>1</td>\n",
              "    </tr>\n",
              "    <tr>\n",
              "      <th>...</th>\n",
              "      <td>...</td>\n",
              "      <td>...</td>\n",
              "      <td>...</td>\n",
              "      <td>...</td>\n",
              "      <td>...</td>\n",
              "      <td>...</td>\n",
              "      <td>...</td>\n",
              "      <td>...</td>\n",
              "      <td>...</td>\n",
              "      <td>...</td>\n",
              "      <td>...</td>\n",
              "      <td>...</td>\n",
              "      <td>...</td>\n",
              "      <td>...</td>\n",
              "      <td>...</td>\n",
              "      <td>...</td>\n",
              "      <td>...</td>\n",
              "      <td>...</td>\n",
              "      <td>...</td>\n",
              "      <td>...</td>\n",
              "      <td>...</td>\n",
              "    </tr>\n",
              "    <tr>\n",
              "      <th>4516</th>\n",
              "      <td>4516</td>\n",
              "      <td>0.205882</td>\n",
              "      <td>1</td>\n",
              "      <td>0.039999</td>\n",
              "      <td>1</td>\n",
              "      <td>0</td>\n",
              "      <td>0.966667</td>\n",
              "      <td>0.107580</td>\n",
              "      <td>0.081633</td>\n",
              "      <td>0</td>\n",
              "      <td>...</td>\n",
              "      <td>0</td>\n",
              "      <td>0</td>\n",
              "      <td>0</td>\n",
              "      <td>0</td>\n",
              "      <td>0</td>\n",
              "      <td>0</td>\n",
              "      <td>0</td>\n",
              "      <td>0</td>\n",
              "      <td>0</td>\n",
              "      <td>1</td>\n",
              "    </tr>\n",
              "    <tr>\n",
              "      <th>4517</th>\n",
              "      <td>4517</td>\n",
              "      <td>0.558824</td>\n",
              "      <td>1</td>\n",
              "      <td>0.000000</td>\n",
              "      <td>1</td>\n",
              "      <td>1</td>\n",
              "      <td>0.266667</td>\n",
              "      <td>0.049321</td>\n",
              "      <td>0.000000</td>\n",
              "      <td>0</td>\n",
              "      <td>...</td>\n",
              "      <td>0</td>\n",
              "      <td>0</td>\n",
              "      <td>1</td>\n",
              "      <td>0</td>\n",
              "      <td>0</td>\n",
              "      <td>0</td>\n",
              "      <td>0</td>\n",
              "      <td>0</td>\n",
              "      <td>0</td>\n",
              "      <td>1</td>\n",
              "    </tr>\n",
              "    <tr>\n",
              "      <th>4518</th>\n",
              "      <td>4518</td>\n",
              "      <td>0.558824</td>\n",
              "      <td>1</td>\n",
              "      <td>0.048429</td>\n",
              "      <td>0</td>\n",
              "      <td>0</td>\n",
              "      <td>0.600000</td>\n",
              "      <td>0.048659</td>\n",
              "      <td>0.204082</td>\n",
              "      <td>0</td>\n",
              "      <td>...</td>\n",
              "      <td>0</td>\n",
              "      <td>0</td>\n",
              "      <td>0</td>\n",
              "      <td>0</td>\n",
              "      <td>0</td>\n",
              "      <td>0</td>\n",
              "      <td>0</td>\n",
              "      <td>0</td>\n",
              "      <td>0</td>\n",
              "      <td>1</td>\n",
              "    </tr>\n",
              "    <tr>\n",
              "      <th>4519</th>\n",
              "      <td>4519</td>\n",
              "      <td>0.132353</td>\n",
              "      <td>1</td>\n",
              "      <td>0.059731</td>\n",
              "      <td>0</td>\n",
              "      <td>0</td>\n",
              "      <td>0.166667</td>\n",
              "      <td>0.041377</td>\n",
              "      <td>0.061224</td>\n",
              "      <td>0</td>\n",
              "      <td>...</td>\n",
              "      <td>0</td>\n",
              "      <td>0</td>\n",
              "      <td>0</td>\n",
              "      <td>0</td>\n",
              "      <td>0</td>\n",
              "      <td>0</td>\n",
              "      <td>0</td>\n",
              "      <td>1</td>\n",
              "      <td>0</td>\n",
              "      <td>0</td>\n",
              "    </tr>\n",
              "    <tr>\n",
              "      <th>4520</th>\n",
              "      <td>4520</td>\n",
              "      <td>0.367647</td>\n",
              "      <td>0</td>\n",
              "      <td>0.059717</td>\n",
              "      <td>1</td>\n",
              "      <td>1</td>\n",
              "      <td>0.066667</td>\n",
              "      <td>0.112877</td>\n",
              "      <td>0.020408</td>\n",
              "      <td>0</td>\n",
              "      <td>...</td>\n",
              "      <td>0</td>\n",
              "      <td>0</td>\n",
              "      <td>0</td>\n",
              "      <td>0</td>\n",
              "      <td>0</td>\n",
              "      <td>0</td>\n",
              "      <td>0</td>\n",
              "      <td>1</td>\n",
              "      <td>0</td>\n",
              "      <td>0</td>\n",
              "    </tr>\n",
              "  </tbody>\n",
              "</table>\n",
              "<p>4521 rows × 53 columns</p>\n",
              "</div>\n",
              "    <div class=\"colab-df-buttons\">\n",
              "\n",
              "  <div class=\"colab-df-container\">\n",
              "    <button class=\"colab-df-convert\" onclick=\"convertToInteractive('df-83bb1008-3534-4497-930b-9859800ef9f3')\"\n",
              "            title=\"Convert this dataframe to an interactive table.\"\n",
              "            style=\"display:none;\">\n",
              "\n",
              "  <svg xmlns=\"http://www.w3.org/2000/svg\" height=\"24px\" viewBox=\"0 -960 960 960\">\n",
              "    <path d=\"M120-120v-720h720v720H120Zm60-500h600v-160H180v160Zm220 220h160v-160H400v160Zm0 220h160v-160H400v160ZM180-400h160v-160H180v160Zm440 0h160v-160H620v160ZM180-180h160v-160H180v160Zm440 0h160v-160H620v160Z\"/>\n",
              "  </svg>\n",
              "    </button>\n",
              "\n",
              "  <style>\n",
              "    .colab-df-container {\n",
              "      display:flex;\n",
              "      gap: 12px;\n",
              "    }\n",
              "\n",
              "    .colab-df-convert {\n",
              "      background-color: #E8F0FE;\n",
              "      border: none;\n",
              "      border-radius: 50%;\n",
              "      cursor: pointer;\n",
              "      display: none;\n",
              "      fill: #1967D2;\n",
              "      height: 32px;\n",
              "      padding: 0 0 0 0;\n",
              "      width: 32px;\n",
              "    }\n",
              "\n",
              "    .colab-df-convert:hover {\n",
              "      background-color: #E2EBFA;\n",
              "      box-shadow: 0px 1px 2px rgba(60, 64, 67, 0.3), 0px 1px 3px 1px rgba(60, 64, 67, 0.15);\n",
              "      fill: #174EA6;\n",
              "    }\n",
              "\n",
              "    .colab-df-buttons div {\n",
              "      margin-bottom: 4px;\n",
              "    }\n",
              "\n",
              "    [theme=dark] .colab-df-convert {\n",
              "      background-color: #3B4455;\n",
              "      fill: #D2E3FC;\n",
              "    }\n",
              "\n",
              "    [theme=dark] .colab-df-convert:hover {\n",
              "      background-color: #434B5C;\n",
              "      box-shadow: 0px 1px 3px 1px rgba(0, 0, 0, 0.15);\n",
              "      filter: drop-shadow(0px 1px 2px rgba(0, 0, 0, 0.3));\n",
              "      fill: #FFFFFF;\n",
              "    }\n",
              "  </style>\n",
              "\n",
              "    <script>\n",
              "      const buttonEl =\n",
              "        document.querySelector('#df-83bb1008-3534-4497-930b-9859800ef9f3 button.colab-df-convert');\n",
              "      buttonEl.style.display =\n",
              "        google.colab.kernel.accessAllowed ? 'block' : 'none';\n",
              "\n",
              "      async function convertToInteractive(key) {\n",
              "        const element = document.querySelector('#df-83bb1008-3534-4497-930b-9859800ef9f3');\n",
              "        const dataTable =\n",
              "          await google.colab.kernel.invokeFunction('convertToInteractive',\n",
              "                                                    [key], {});\n",
              "        if (!dataTable) return;\n",
              "\n",
              "        const docLinkHtml = 'Like what you see? Visit the ' +\n",
              "          '<a target=\"_blank\" href=https://colab.research.google.com/notebooks/data_table.ipynb>data table notebook</a>'\n",
              "          + ' to learn more about interactive tables.';\n",
              "        element.innerHTML = '';\n",
              "        dataTable['output_type'] = 'display_data';\n",
              "        await google.colab.output.renderOutput(dataTable, element);\n",
              "        const docLink = document.createElement('div');\n",
              "        docLink.innerHTML = docLinkHtml;\n",
              "        element.appendChild(docLink);\n",
              "      }\n",
              "    </script>\n",
              "  </div>\n",
              "\n",
              "\n",
              "<div id=\"df-a6db32f1-245e-4c68-898e-385936158515\">\n",
              "  <button class=\"colab-df-quickchart\" onclick=\"quickchart('df-a6db32f1-245e-4c68-898e-385936158515')\"\n",
              "            title=\"Suggest charts\"\n",
              "            style=\"display:none;\">\n",
              "\n",
              "<svg xmlns=\"http://www.w3.org/2000/svg\" height=\"24px\"viewBox=\"0 0 24 24\"\n",
              "     width=\"24px\">\n",
              "    <g>\n",
              "        <path d=\"M19 3H5c-1.1 0-2 .9-2 2v14c0 1.1.9 2 2 2h14c1.1 0 2-.9 2-2V5c0-1.1-.9-2-2-2zM9 17H7v-7h2v7zm4 0h-2V7h2v10zm4 0h-2v-4h2v4z\"/>\n",
              "    </g>\n",
              "</svg>\n",
              "  </button>\n",
              "\n",
              "<style>\n",
              "  .colab-df-quickchart {\n",
              "      --bg-color: #E8F0FE;\n",
              "      --fill-color: #1967D2;\n",
              "      --hover-bg-color: #E2EBFA;\n",
              "      --hover-fill-color: #174EA6;\n",
              "      --disabled-fill-color: #AAA;\n",
              "      --disabled-bg-color: #DDD;\n",
              "  }\n",
              "\n",
              "  [theme=dark] .colab-df-quickchart {\n",
              "      --bg-color: #3B4455;\n",
              "      --fill-color: #D2E3FC;\n",
              "      --hover-bg-color: #434B5C;\n",
              "      --hover-fill-color: #FFFFFF;\n",
              "      --disabled-bg-color: #3B4455;\n",
              "      --disabled-fill-color: #666;\n",
              "  }\n",
              "\n",
              "  .colab-df-quickchart {\n",
              "    background-color: var(--bg-color);\n",
              "    border: none;\n",
              "    border-radius: 50%;\n",
              "    cursor: pointer;\n",
              "    display: none;\n",
              "    fill: var(--fill-color);\n",
              "    height: 32px;\n",
              "    padding: 0;\n",
              "    width: 32px;\n",
              "  }\n",
              "\n",
              "  .colab-df-quickchart:hover {\n",
              "    background-color: var(--hover-bg-color);\n",
              "    box-shadow: 0 1px 2px rgba(60, 64, 67, 0.3), 0 1px 3px 1px rgba(60, 64, 67, 0.15);\n",
              "    fill: var(--button-hover-fill-color);\n",
              "  }\n",
              "\n",
              "  .colab-df-quickchart-complete:disabled,\n",
              "  .colab-df-quickchart-complete:disabled:hover {\n",
              "    background-color: var(--disabled-bg-color);\n",
              "    fill: var(--disabled-fill-color);\n",
              "    box-shadow: none;\n",
              "  }\n",
              "\n",
              "  .colab-df-spinner {\n",
              "    border: 2px solid var(--fill-color);\n",
              "    border-color: transparent;\n",
              "    border-bottom-color: var(--fill-color);\n",
              "    animation:\n",
              "      spin 1s steps(1) infinite;\n",
              "  }\n",
              "\n",
              "  @keyframes spin {\n",
              "    0% {\n",
              "      border-color: transparent;\n",
              "      border-bottom-color: var(--fill-color);\n",
              "      border-left-color: var(--fill-color);\n",
              "    }\n",
              "    20% {\n",
              "      border-color: transparent;\n",
              "      border-left-color: var(--fill-color);\n",
              "      border-top-color: var(--fill-color);\n",
              "    }\n",
              "    30% {\n",
              "      border-color: transparent;\n",
              "      border-left-color: var(--fill-color);\n",
              "      border-top-color: var(--fill-color);\n",
              "      border-right-color: var(--fill-color);\n",
              "    }\n",
              "    40% {\n",
              "      border-color: transparent;\n",
              "      border-right-color: var(--fill-color);\n",
              "      border-top-color: var(--fill-color);\n",
              "    }\n",
              "    60% {\n",
              "      border-color: transparent;\n",
              "      border-right-color: var(--fill-color);\n",
              "    }\n",
              "    80% {\n",
              "      border-color: transparent;\n",
              "      border-right-color: var(--fill-color);\n",
              "      border-bottom-color: var(--fill-color);\n",
              "    }\n",
              "    90% {\n",
              "      border-color: transparent;\n",
              "      border-bottom-color: var(--fill-color);\n",
              "    }\n",
              "  }\n",
              "</style>\n",
              "\n",
              "  <script>\n",
              "    async function quickchart(key) {\n",
              "      const quickchartButtonEl =\n",
              "        document.querySelector('#' + key + ' button');\n",
              "      quickchartButtonEl.disabled = true;  // To prevent multiple clicks.\n",
              "      quickchartButtonEl.classList.add('colab-df-spinner');\n",
              "      try {\n",
              "        const charts = await google.colab.kernel.invokeFunction(\n",
              "            'suggestCharts', [key], {});\n",
              "      } catch (error) {\n",
              "        console.error('Error during call to suggestCharts:', error);\n",
              "      }\n",
              "      quickchartButtonEl.classList.remove('colab-df-spinner');\n",
              "      quickchartButtonEl.classList.add('colab-df-quickchart-complete');\n",
              "    }\n",
              "    (() => {\n",
              "      let quickchartButtonEl =\n",
              "        document.querySelector('#df-a6db32f1-245e-4c68-898e-385936158515 button');\n",
              "      quickchartButtonEl.style.display =\n",
              "        google.colab.kernel.accessAllowed ? 'block' : 'none';\n",
              "    })();\n",
              "  </script>\n",
              "</div>\n",
              "    </div>\n",
              "  </div>\n"
            ]
          },
          "metadata": {},
          "execution_count": 9
        }
      ]
    },
    {
      "cell_type": "markdown",
      "source": [
        "Откуда-то при сохранении данные появился столбец \"Unnamed\", что портил точность нашей модели, дальше я уберу этот слобец из нашей модели"
      ],
      "metadata": {
        "id": "4BPGkgDEXCYS"
      }
    },
    {
      "cell_type": "code",
      "source": [
        "df_train"
      ],
      "metadata": {
        "colab": {
          "base_uri": "https://localhost:8080/",
          "height": 461
        },
        "id": "gaUMiOxutwCb",
        "outputId": "db82ee44-b46c-452e-b36e-dd6f6df163bc"
      },
      "execution_count": 10,
      "outputs": [
        {
          "output_type": "execute_result",
          "data": {
            "text/plain": [
              "       Unnamed: 0       age  marital   balance  housing  loan       day  \\\n",
              "0               0  0.519481        1  0.092259        1     0  0.133333   \n",
              "1               1  0.337662        0  0.073067        1     0  0.133333   \n",
              "2               2  0.194805        1  0.072822        1     1  0.133333   \n",
              "3               3  0.376623        1  0.086476        1     0  0.133333   \n",
              "4               4  0.194805        0  0.072812        0     0  0.133333   \n",
              "...           ...       ...      ...       ...      ...   ...       ...   \n",
              "45206       45206  0.428571        1  0.080293        0     0  0.533333   \n",
              "45207       45207  0.688312        0  0.088501        0     0  0.533333   \n",
              "45208       45208  0.701299        1  0.124689        0     0  0.533333   \n",
              "45209       45209  0.506494        1  0.078868        0     0  0.533333   \n",
              "45210       45210  0.246753        1  0.099777        0     0  0.533333   \n",
              "\n",
              "       duration  campaign  y  ...  month_jun  month_mar  month_may  month_nov  \\\n",
              "0      0.053070  0.000000  0  ...          0          0          1          0   \n",
              "1      0.030704  0.000000  0  ...          0          0          1          0   \n",
              "2      0.015453  0.000000  0  ...          0          0          1          0   \n",
              "3      0.018707  0.000000  0  ...          0          0          1          0   \n",
              "4      0.040260  0.000000  0  ...          0          0          1          0   \n",
              "...         ...       ... ..  ...        ...        ...        ...        ...   \n",
              "45206  0.198658  0.032258  1  ...          0          0          0          1   \n",
              "45207  0.092721  0.016129  1  ...          0          0          0          1   \n",
              "45208  0.229158  0.064516  1  ...          0          0          0          1   \n",
              "45209  0.103294  0.048387  0  ...          0          0          0          1   \n",
              "45210  0.073404  0.016129  0  ...          0          0          0          1   \n",
              "\n",
              "       month_oct  month_sep  poutcome_failure  poutcome_other  \\\n",
              "0              0          0                 0               0   \n",
              "1              0          0                 0               0   \n",
              "2              0          0                 0               0   \n",
              "3              0          0                 0               0   \n",
              "4              0          0                 0               0   \n",
              "...          ...        ...               ...             ...   \n",
              "45206          0          0                 0               0   \n",
              "45207          0          0                 0               0   \n",
              "45208          0          0                 0               0   \n",
              "45209          0          0                 0               0   \n",
              "45210          0          0                 0               1   \n",
              "\n",
              "       poutcome_success  poutcome_unknown  \n",
              "0                     0                 1  \n",
              "1                     0                 1  \n",
              "2                     0                 1  \n",
              "3                     0                 1  \n",
              "4                     0                 1  \n",
              "...                 ...               ...  \n",
              "45206                 0                 1  \n",
              "45207                 0                 1  \n",
              "45208                 1                 0  \n",
              "45209                 0                 1  \n",
              "45210                 0                 0  \n",
              "\n",
              "[45211 rows x 53 columns]"
            ],
            "text/html": [
              "\n",
              "  <div id=\"df-86c237da-4a3c-4c82-a8b0-270a76c987d1\" class=\"colab-df-container\">\n",
              "    <div>\n",
              "<style scoped>\n",
              "    .dataframe tbody tr th:only-of-type {\n",
              "        vertical-align: middle;\n",
              "    }\n",
              "\n",
              "    .dataframe tbody tr th {\n",
              "        vertical-align: top;\n",
              "    }\n",
              "\n",
              "    .dataframe thead th {\n",
              "        text-align: right;\n",
              "    }\n",
              "</style>\n",
              "<table border=\"1\" class=\"dataframe\">\n",
              "  <thead>\n",
              "    <tr style=\"text-align: right;\">\n",
              "      <th></th>\n",
              "      <th>Unnamed: 0</th>\n",
              "      <th>age</th>\n",
              "      <th>marital</th>\n",
              "      <th>balance</th>\n",
              "      <th>housing</th>\n",
              "      <th>loan</th>\n",
              "      <th>day</th>\n",
              "      <th>duration</th>\n",
              "      <th>campaign</th>\n",
              "      <th>y</th>\n",
              "      <th>...</th>\n",
              "      <th>month_jun</th>\n",
              "      <th>month_mar</th>\n",
              "      <th>month_may</th>\n",
              "      <th>month_nov</th>\n",
              "      <th>month_oct</th>\n",
              "      <th>month_sep</th>\n",
              "      <th>poutcome_failure</th>\n",
              "      <th>poutcome_other</th>\n",
              "      <th>poutcome_success</th>\n",
              "      <th>poutcome_unknown</th>\n",
              "    </tr>\n",
              "  </thead>\n",
              "  <tbody>\n",
              "    <tr>\n",
              "      <th>0</th>\n",
              "      <td>0</td>\n",
              "      <td>0.519481</td>\n",
              "      <td>1</td>\n",
              "      <td>0.092259</td>\n",
              "      <td>1</td>\n",
              "      <td>0</td>\n",
              "      <td>0.133333</td>\n",
              "      <td>0.053070</td>\n",
              "      <td>0.000000</td>\n",
              "      <td>0</td>\n",
              "      <td>...</td>\n",
              "      <td>0</td>\n",
              "      <td>0</td>\n",
              "      <td>1</td>\n",
              "      <td>0</td>\n",
              "      <td>0</td>\n",
              "      <td>0</td>\n",
              "      <td>0</td>\n",
              "      <td>0</td>\n",
              "      <td>0</td>\n",
              "      <td>1</td>\n",
              "    </tr>\n",
              "    <tr>\n",
              "      <th>1</th>\n",
              "      <td>1</td>\n",
              "      <td>0.337662</td>\n",
              "      <td>0</td>\n",
              "      <td>0.073067</td>\n",
              "      <td>1</td>\n",
              "      <td>0</td>\n",
              "      <td>0.133333</td>\n",
              "      <td>0.030704</td>\n",
              "      <td>0.000000</td>\n",
              "      <td>0</td>\n",
              "      <td>...</td>\n",
              "      <td>0</td>\n",
              "      <td>0</td>\n",
              "      <td>1</td>\n",
              "      <td>0</td>\n",
              "      <td>0</td>\n",
              "      <td>0</td>\n",
              "      <td>0</td>\n",
              "      <td>0</td>\n",
              "      <td>0</td>\n",
              "      <td>1</td>\n",
              "    </tr>\n",
              "    <tr>\n",
              "      <th>2</th>\n",
              "      <td>2</td>\n",
              "      <td>0.194805</td>\n",
              "      <td>1</td>\n",
              "      <td>0.072822</td>\n",
              "      <td>1</td>\n",
              "      <td>1</td>\n",
              "      <td>0.133333</td>\n",
              "      <td>0.015453</td>\n",
              "      <td>0.000000</td>\n",
              "      <td>0</td>\n",
              "      <td>...</td>\n",
              "      <td>0</td>\n",
              "      <td>0</td>\n",
              "      <td>1</td>\n",
              "      <td>0</td>\n",
              "      <td>0</td>\n",
              "      <td>0</td>\n",
              "      <td>0</td>\n",
              "      <td>0</td>\n",
              "      <td>0</td>\n",
              "      <td>1</td>\n",
              "    </tr>\n",
              "    <tr>\n",
              "      <th>3</th>\n",
              "      <td>3</td>\n",
              "      <td>0.376623</td>\n",
              "      <td>1</td>\n",
              "      <td>0.086476</td>\n",
              "      <td>1</td>\n",
              "      <td>0</td>\n",
              "      <td>0.133333</td>\n",
              "      <td>0.018707</td>\n",
              "      <td>0.000000</td>\n",
              "      <td>0</td>\n",
              "      <td>...</td>\n",
              "      <td>0</td>\n",
              "      <td>0</td>\n",
              "      <td>1</td>\n",
              "      <td>0</td>\n",
              "      <td>0</td>\n",
              "      <td>0</td>\n",
              "      <td>0</td>\n",
              "      <td>0</td>\n",
              "      <td>0</td>\n",
              "      <td>1</td>\n",
              "    </tr>\n",
              "    <tr>\n",
              "      <th>4</th>\n",
              "      <td>4</td>\n",
              "      <td>0.194805</td>\n",
              "      <td>0</td>\n",
              "      <td>0.072812</td>\n",
              "      <td>0</td>\n",
              "      <td>0</td>\n",
              "      <td>0.133333</td>\n",
              "      <td>0.040260</td>\n",
              "      <td>0.000000</td>\n",
              "      <td>0</td>\n",
              "      <td>...</td>\n",
              "      <td>0</td>\n",
              "      <td>0</td>\n",
              "      <td>1</td>\n",
              "      <td>0</td>\n",
              "      <td>0</td>\n",
              "      <td>0</td>\n",
              "      <td>0</td>\n",
              "      <td>0</td>\n",
              "      <td>0</td>\n",
              "      <td>1</td>\n",
              "    </tr>\n",
              "    <tr>\n",
              "      <th>...</th>\n",
              "      <td>...</td>\n",
              "      <td>...</td>\n",
              "      <td>...</td>\n",
              "      <td>...</td>\n",
              "      <td>...</td>\n",
              "      <td>...</td>\n",
              "      <td>...</td>\n",
              "      <td>...</td>\n",
              "      <td>...</td>\n",
              "      <td>...</td>\n",
              "      <td>...</td>\n",
              "      <td>...</td>\n",
              "      <td>...</td>\n",
              "      <td>...</td>\n",
              "      <td>...</td>\n",
              "      <td>...</td>\n",
              "      <td>...</td>\n",
              "      <td>...</td>\n",
              "      <td>...</td>\n",
              "      <td>...</td>\n",
              "      <td>...</td>\n",
              "    </tr>\n",
              "    <tr>\n",
              "      <th>45206</th>\n",
              "      <td>45206</td>\n",
              "      <td>0.428571</td>\n",
              "      <td>1</td>\n",
              "      <td>0.080293</td>\n",
              "      <td>0</td>\n",
              "      <td>0</td>\n",
              "      <td>0.533333</td>\n",
              "      <td>0.198658</td>\n",
              "      <td>0.032258</td>\n",
              "      <td>1</td>\n",
              "      <td>...</td>\n",
              "      <td>0</td>\n",
              "      <td>0</td>\n",
              "      <td>0</td>\n",
              "      <td>1</td>\n",
              "      <td>0</td>\n",
              "      <td>0</td>\n",
              "      <td>0</td>\n",
              "      <td>0</td>\n",
              "      <td>0</td>\n",
              "      <td>1</td>\n",
              "    </tr>\n",
              "    <tr>\n",
              "      <th>45207</th>\n",
              "      <td>45207</td>\n",
              "      <td>0.688312</td>\n",
              "      <td>0</td>\n",
              "      <td>0.088501</td>\n",
              "      <td>0</td>\n",
              "      <td>0</td>\n",
              "      <td>0.533333</td>\n",
              "      <td>0.092721</td>\n",
              "      <td>0.016129</td>\n",
              "      <td>1</td>\n",
              "      <td>...</td>\n",
              "      <td>0</td>\n",
              "      <td>0</td>\n",
              "      <td>0</td>\n",
              "      <td>1</td>\n",
              "      <td>0</td>\n",
              "      <td>0</td>\n",
              "      <td>0</td>\n",
              "      <td>0</td>\n",
              "      <td>0</td>\n",
              "      <td>1</td>\n",
              "    </tr>\n",
              "    <tr>\n",
              "      <th>45208</th>\n",
              "      <td>45208</td>\n",
              "      <td>0.701299</td>\n",
              "      <td>1</td>\n",
              "      <td>0.124689</td>\n",
              "      <td>0</td>\n",
              "      <td>0</td>\n",
              "      <td>0.533333</td>\n",
              "      <td>0.229158</td>\n",
              "      <td>0.064516</td>\n",
              "      <td>1</td>\n",
              "      <td>...</td>\n",
              "      <td>0</td>\n",
              "      <td>0</td>\n",
              "      <td>0</td>\n",
              "      <td>1</td>\n",
              "      <td>0</td>\n",
              "      <td>0</td>\n",
              "      <td>0</td>\n",
              "      <td>0</td>\n",
              "      <td>1</td>\n",
              "      <td>0</td>\n",
              "    </tr>\n",
              "    <tr>\n",
              "      <th>45209</th>\n",
              "      <td>45209</td>\n",
              "      <td>0.506494</td>\n",
              "      <td>1</td>\n",
              "      <td>0.078868</td>\n",
              "      <td>0</td>\n",
              "      <td>0</td>\n",
              "      <td>0.533333</td>\n",
              "      <td>0.103294</td>\n",
              "      <td>0.048387</td>\n",
              "      <td>0</td>\n",
              "      <td>...</td>\n",
              "      <td>0</td>\n",
              "      <td>0</td>\n",
              "      <td>0</td>\n",
              "      <td>1</td>\n",
              "      <td>0</td>\n",
              "      <td>0</td>\n",
              "      <td>0</td>\n",
              "      <td>0</td>\n",
              "      <td>0</td>\n",
              "      <td>1</td>\n",
              "    </tr>\n",
              "    <tr>\n",
              "      <th>45210</th>\n",
              "      <td>45210</td>\n",
              "      <td>0.246753</td>\n",
              "      <td>1</td>\n",
              "      <td>0.099777</td>\n",
              "      <td>0</td>\n",
              "      <td>0</td>\n",
              "      <td>0.533333</td>\n",
              "      <td>0.073404</td>\n",
              "      <td>0.016129</td>\n",
              "      <td>0</td>\n",
              "      <td>...</td>\n",
              "      <td>0</td>\n",
              "      <td>0</td>\n",
              "      <td>0</td>\n",
              "      <td>1</td>\n",
              "      <td>0</td>\n",
              "      <td>0</td>\n",
              "      <td>0</td>\n",
              "      <td>1</td>\n",
              "      <td>0</td>\n",
              "      <td>0</td>\n",
              "    </tr>\n",
              "  </tbody>\n",
              "</table>\n",
              "<p>45211 rows × 53 columns</p>\n",
              "</div>\n",
              "    <div class=\"colab-df-buttons\">\n",
              "\n",
              "  <div class=\"colab-df-container\">\n",
              "    <button class=\"colab-df-convert\" onclick=\"convertToInteractive('df-86c237da-4a3c-4c82-a8b0-270a76c987d1')\"\n",
              "            title=\"Convert this dataframe to an interactive table.\"\n",
              "            style=\"display:none;\">\n",
              "\n",
              "  <svg xmlns=\"http://www.w3.org/2000/svg\" height=\"24px\" viewBox=\"0 -960 960 960\">\n",
              "    <path d=\"M120-120v-720h720v720H120Zm60-500h600v-160H180v160Zm220 220h160v-160H400v160Zm0 220h160v-160H400v160ZM180-400h160v-160H180v160Zm440 0h160v-160H620v160ZM180-180h160v-160H180v160Zm440 0h160v-160H620v160Z\"/>\n",
              "  </svg>\n",
              "    </button>\n",
              "\n",
              "  <style>\n",
              "    .colab-df-container {\n",
              "      display:flex;\n",
              "      gap: 12px;\n",
              "    }\n",
              "\n",
              "    .colab-df-convert {\n",
              "      background-color: #E8F0FE;\n",
              "      border: none;\n",
              "      border-radius: 50%;\n",
              "      cursor: pointer;\n",
              "      display: none;\n",
              "      fill: #1967D2;\n",
              "      height: 32px;\n",
              "      padding: 0 0 0 0;\n",
              "      width: 32px;\n",
              "    }\n",
              "\n",
              "    .colab-df-convert:hover {\n",
              "      background-color: #E2EBFA;\n",
              "      box-shadow: 0px 1px 2px rgba(60, 64, 67, 0.3), 0px 1px 3px 1px rgba(60, 64, 67, 0.15);\n",
              "      fill: #174EA6;\n",
              "    }\n",
              "\n",
              "    .colab-df-buttons div {\n",
              "      margin-bottom: 4px;\n",
              "    }\n",
              "\n",
              "    [theme=dark] .colab-df-convert {\n",
              "      background-color: #3B4455;\n",
              "      fill: #D2E3FC;\n",
              "    }\n",
              "\n",
              "    [theme=dark] .colab-df-convert:hover {\n",
              "      background-color: #434B5C;\n",
              "      box-shadow: 0px 1px 3px 1px rgba(0, 0, 0, 0.15);\n",
              "      filter: drop-shadow(0px 1px 2px rgba(0, 0, 0, 0.3));\n",
              "      fill: #FFFFFF;\n",
              "    }\n",
              "  </style>\n",
              "\n",
              "    <script>\n",
              "      const buttonEl =\n",
              "        document.querySelector('#df-86c237da-4a3c-4c82-a8b0-270a76c987d1 button.colab-df-convert');\n",
              "      buttonEl.style.display =\n",
              "        google.colab.kernel.accessAllowed ? 'block' : 'none';\n",
              "\n",
              "      async function convertToInteractive(key) {\n",
              "        const element = document.querySelector('#df-86c237da-4a3c-4c82-a8b0-270a76c987d1');\n",
              "        const dataTable =\n",
              "          await google.colab.kernel.invokeFunction('convertToInteractive',\n",
              "                                                    [key], {});\n",
              "        if (!dataTable) return;\n",
              "\n",
              "        const docLinkHtml = 'Like what you see? Visit the ' +\n",
              "          '<a target=\"_blank\" href=https://colab.research.google.com/notebooks/data_table.ipynb>data table notebook</a>'\n",
              "          + ' to learn more about interactive tables.';\n",
              "        element.innerHTML = '';\n",
              "        dataTable['output_type'] = 'display_data';\n",
              "        await google.colab.output.renderOutput(dataTable, element);\n",
              "        const docLink = document.createElement('div');\n",
              "        docLink.innerHTML = docLinkHtml;\n",
              "        element.appendChild(docLink);\n",
              "      }\n",
              "    </script>\n",
              "  </div>\n",
              "\n",
              "\n",
              "<div id=\"df-72a874fd-dc63-4dc4-935d-3d962a3c73c2\">\n",
              "  <button class=\"colab-df-quickchart\" onclick=\"quickchart('df-72a874fd-dc63-4dc4-935d-3d962a3c73c2')\"\n",
              "            title=\"Suggest charts\"\n",
              "            style=\"display:none;\">\n",
              "\n",
              "<svg xmlns=\"http://www.w3.org/2000/svg\" height=\"24px\"viewBox=\"0 0 24 24\"\n",
              "     width=\"24px\">\n",
              "    <g>\n",
              "        <path d=\"M19 3H5c-1.1 0-2 .9-2 2v14c0 1.1.9 2 2 2h14c1.1 0 2-.9 2-2V5c0-1.1-.9-2-2-2zM9 17H7v-7h2v7zm4 0h-2V7h2v10zm4 0h-2v-4h2v4z\"/>\n",
              "    </g>\n",
              "</svg>\n",
              "  </button>\n",
              "\n",
              "<style>\n",
              "  .colab-df-quickchart {\n",
              "      --bg-color: #E8F0FE;\n",
              "      --fill-color: #1967D2;\n",
              "      --hover-bg-color: #E2EBFA;\n",
              "      --hover-fill-color: #174EA6;\n",
              "      --disabled-fill-color: #AAA;\n",
              "      --disabled-bg-color: #DDD;\n",
              "  }\n",
              "\n",
              "  [theme=dark] .colab-df-quickchart {\n",
              "      --bg-color: #3B4455;\n",
              "      --fill-color: #D2E3FC;\n",
              "      --hover-bg-color: #434B5C;\n",
              "      --hover-fill-color: #FFFFFF;\n",
              "      --disabled-bg-color: #3B4455;\n",
              "      --disabled-fill-color: #666;\n",
              "  }\n",
              "\n",
              "  .colab-df-quickchart {\n",
              "    background-color: var(--bg-color);\n",
              "    border: none;\n",
              "    border-radius: 50%;\n",
              "    cursor: pointer;\n",
              "    display: none;\n",
              "    fill: var(--fill-color);\n",
              "    height: 32px;\n",
              "    padding: 0;\n",
              "    width: 32px;\n",
              "  }\n",
              "\n",
              "  .colab-df-quickchart:hover {\n",
              "    background-color: var(--hover-bg-color);\n",
              "    box-shadow: 0 1px 2px rgba(60, 64, 67, 0.3), 0 1px 3px 1px rgba(60, 64, 67, 0.15);\n",
              "    fill: var(--button-hover-fill-color);\n",
              "  }\n",
              "\n",
              "  .colab-df-quickchart-complete:disabled,\n",
              "  .colab-df-quickchart-complete:disabled:hover {\n",
              "    background-color: var(--disabled-bg-color);\n",
              "    fill: var(--disabled-fill-color);\n",
              "    box-shadow: none;\n",
              "  }\n",
              "\n",
              "  .colab-df-spinner {\n",
              "    border: 2px solid var(--fill-color);\n",
              "    border-color: transparent;\n",
              "    border-bottom-color: var(--fill-color);\n",
              "    animation:\n",
              "      spin 1s steps(1) infinite;\n",
              "  }\n",
              "\n",
              "  @keyframes spin {\n",
              "    0% {\n",
              "      border-color: transparent;\n",
              "      border-bottom-color: var(--fill-color);\n",
              "      border-left-color: var(--fill-color);\n",
              "    }\n",
              "    20% {\n",
              "      border-color: transparent;\n",
              "      border-left-color: var(--fill-color);\n",
              "      border-top-color: var(--fill-color);\n",
              "    }\n",
              "    30% {\n",
              "      border-color: transparent;\n",
              "      border-left-color: var(--fill-color);\n",
              "      border-top-color: var(--fill-color);\n",
              "      border-right-color: var(--fill-color);\n",
              "    }\n",
              "    40% {\n",
              "      border-color: transparent;\n",
              "      border-right-color: var(--fill-color);\n",
              "      border-top-color: var(--fill-color);\n",
              "    }\n",
              "    60% {\n",
              "      border-color: transparent;\n",
              "      border-right-color: var(--fill-color);\n",
              "    }\n",
              "    80% {\n",
              "      border-color: transparent;\n",
              "      border-right-color: var(--fill-color);\n",
              "      border-bottom-color: var(--fill-color);\n",
              "    }\n",
              "    90% {\n",
              "      border-color: transparent;\n",
              "      border-bottom-color: var(--fill-color);\n",
              "    }\n",
              "  }\n",
              "</style>\n",
              "\n",
              "  <script>\n",
              "    async function quickchart(key) {\n",
              "      const quickchartButtonEl =\n",
              "        document.querySelector('#' + key + ' button');\n",
              "      quickchartButtonEl.disabled = true;  // To prevent multiple clicks.\n",
              "      quickchartButtonEl.classList.add('colab-df-spinner');\n",
              "      try {\n",
              "        const charts = await google.colab.kernel.invokeFunction(\n",
              "            'suggestCharts', [key], {});\n",
              "      } catch (error) {\n",
              "        console.error('Error during call to suggestCharts:', error);\n",
              "      }\n",
              "      quickchartButtonEl.classList.remove('colab-df-spinner');\n",
              "      quickchartButtonEl.classList.add('colab-df-quickchart-complete');\n",
              "    }\n",
              "    (() => {\n",
              "      let quickchartButtonEl =\n",
              "        document.querySelector('#df-72a874fd-dc63-4dc4-935d-3d962a3c73c2 button');\n",
              "      quickchartButtonEl.style.display =\n",
              "        google.colab.kernel.accessAllowed ? 'block' : 'none';\n",
              "    })();\n",
              "  </script>\n",
              "</div>\n",
              "    </div>\n",
              "  </div>\n"
            ]
          },
          "metadata": {},
          "execution_count": 10
        }
      ]
    },
    {
      "cell_type": "code",
      "source": [
        "df_train.info()"
      ],
      "metadata": {
        "colab": {
          "base_uri": "https://localhost:8080/"
        },
        "id": "ZISU_bHRWAzS",
        "outputId": "3cf6dc99-759e-443b-9203-dc1c11e564cf"
      },
      "execution_count": 11,
      "outputs": [
        {
          "output_type": "stream",
          "name": "stdout",
          "text": [
            "<class 'pandas.core.frame.DataFrame'>\n",
            "RangeIndex: 45211 entries, 0 to 45210\n",
            "Data columns (total 53 columns):\n",
            " #   Column               Non-Null Count  Dtype  \n",
            "---  ------               --------------  -----  \n",
            " 0   Unnamed: 0           45211 non-null  int64  \n",
            " 1   age                  45211 non-null  float64\n",
            " 2   marital              45211 non-null  int64  \n",
            " 3   balance              45211 non-null  float64\n",
            " 4   housing              45211 non-null  int64  \n",
            " 5   loan                 45211 non-null  int64  \n",
            " 6   day                  45211 non-null  float64\n",
            " 7   duration             45211 non-null  float64\n",
            " 8   campaign             45211 non-null  float64\n",
            " 9   y                    45211 non-null  int64  \n",
            " 10  job_admin.           45211 non-null  int64  \n",
            " 11  job_blue-collar      45211 non-null  int64  \n",
            " 12  job_entrepreneur     45211 non-null  int64  \n",
            " 13  job_housemaid        45211 non-null  int64  \n",
            " 14  job_management       45211 non-null  int64  \n",
            " 15  job_retired          45211 non-null  int64  \n",
            " 16  job_self-employed    45211 non-null  int64  \n",
            " 17  job_services         45211 non-null  int64  \n",
            " 18  job_student          45211 non-null  int64  \n",
            " 19  job_technician       45211 non-null  int64  \n",
            " 20  job_unemployed       45211 non-null  int64  \n",
            " 21  job_unknown          45211 non-null  int64  \n",
            " 22  marital_0            45211 non-null  int64  \n",
            " 23  marital_1            45211 non-null  int64  \n",
            " 24  education_primary    45211 non-null  int64  \n",
            " 25  education_secondary  45211 non-null  int64  \n",
            " 26  education_tertiary   45211 non-null  int64  \n",
            " 27  education_unknown    45211 non-null  int64  \n",
            " 28  default_0            45211 non-null  int64  \n",
            " 29  default_1            45211 non-null  int64  \n",
            " 30  housing_0            45211 non-null  int64  \n",
            " 31  housing_1            45211 non-null  int64  \n",
            " 32  loan_0               45211 non-null  int64  \n",
            " 33  loan_1               45211 non-null  int64  \n",
            " 34  contact_cellular     45211 non-null  int64  \n",
            " 35  contact_telephone    45211 non-null  int64  \n",
            " 36  contact_unknown      45211 non-null  int64  \n",
            " 37  month_apr            45211 non-null  int64  \n",
            " 38  month_aug            45211 non-null  int64  \n",
            " 39  month_dec            45211 non-null  int64  \n",
            " 40  month_feb            45211 non-null  int64  \n",
            " 41  month_jan            45211 non-null  int64  \n",
            " 42  month_jul            45211 non-null  int64  \n",
            " 43  month_jun            45211 non-null  int64  \n",
            " 44  month_mar            45211 non-null  int64  \n",
            " 45  month_may            45211 non-null  int64  \n",
            " 46  month_nov            45211 non-null  int64  \n",
            " 47  month_oct            45211 non-null  int64  \n",
            " 48  month_sep            45211 non-null  int64  \n",
            " 49  poutcome_failure     45211 non-null  int64  \n",
            " 50  poutcome_other       45211 non-null  int64  \n",
            " 51  poutcome_success     45211 non-null  int64  \n",
            " 52  poutcome_unknown     45211 non-null  int64  \n",
            "dtypes: float64(5), int64(48)\n",
            "memory usage: 18.3 MB\n"
          ]
        }
      ]
    },
    {
      "cell_type": "code",
      "source": [
        "df_test.info()"
      ],
      "metadata": {
        "colab": {
          "base_uri": "https://localhost:8080/"
        },
        "id": "4nP6aNCNWBfv",
        "outputId": "05095ef2-401a-455e-f90d-f7c39a53c6be"
      },
      "execution_count": 12,
      "outputs": [
        {
          "output_type": "stream",
          "name": "stdout",
          "text": [
            "<class 'pandas.core.frame.DataFrame'>\n",
            "RangeIndex: 4521 entries, 0 to 4520\n",
            "Data columns (total 53 columns):\n",
            " #   Column               Non-Null Count  Dtype  \n",
            "---  ------               --------------  -----  \n",
            " 0   Unnamed: 0           4521 non-null   int64  \n",
            " 1   age                  4521 non-null   float64\n",
            " 2   marital              4521 non-null   int64  \n",
            " 3   balance              4521 non-null   float64\n",
            " 4   housing              4521 non-null   int64  \n",
            " 5   loan                 4521 non-null   int64  \n",
            " 6   day                  4521 non-null   float64\n",
            " 7   duration             4521 non-null   float64\n",
            " 8   campaign             4521 non-null   float64\n",
            " 9   y                    4521 non-null   int64  \n",
            " 10  job_admin.           4521 non-null   int64  \n",
            " 11  job_blue-collar      4521 non-null   int64  \n",
            " 12  job_entrepreneur     4521 non-null   int64  \n",
            " 13  job_housemaid        4521 non-null   int64  \n",
            " 14  job_management       4521 non-null   int64  \n",
            " 15  job_retired          4521 non-null   int64  \n",
            " 16  job_self-employed    4521 non-null   int64  \n",
            " 17  job_services         4521 non-null   int64  \n",
            " 18  job_student          4521 non-null   int64  \n",
            " 19  job_technician       4521 non-null   int64  \n",
            " 20  job_unemployed       4521 non-null   int64  \n",
            " 21  job_unknown          4521 non-null   int64  \n",
            " 22  marital_0            4521 non-null   int64  \n",
            " 23  marital_1            4521 non-null   int64  \n",
            " 24  education_primary    4521 non-null   int64  \n",
            " 25  education_secondary  4521 non-null   int64  \n",
            " 26  education_tertiary   4521 non-null   int64  \n",
            " 27  education_unknown    4521 non-null   int64  \n",
            " 28  default_0            4521 non-null   int64  \n",
            " 29  default_1            4521 non-null   int64  \n",
            " 30  housing_0            4521 non-null   int64  \n",
            " 31  housing_1            4521 non-null   int64  \n",
            " 32  loan_0               4521 non-null   int64  \n",
            " 33  loan_1               4521 non-null   int64  \n",
            " 34  contact_cellular     4521 non-null   int64  \n",
            " 35  contact_telephone    4521 non-null   int64  \n",
            " 36  contact_unknown      4521 non-null   int64  \n",
            " 37  month_apr            4521 non-null   int64  \n",
            " 38  month_aug            4521 non-null   int64  \n",
            " 39  month_dec            4521 non-null   int64  \n",
            " 40  month_feb            4521 non-null   int64  \n",
            " 41  month_jan            4521 non-null   int64  \n",
            " 42  month_jul            4521 non-null   int64  \n",
            " 43  month_jun            4521 non-null   int64  \n",
            " 44  month_mar            4521 non-null   int64  \n",
            " 45  month_may            4521 non-null   int64  \n",
            " 46  month_nov            4521 non-null   int64  \n",
            " 47  month_oct            4521 non-null   int64  \n",
            " 48  month_sep            4521 non-null   int64  \n",
            " 49  poutcome_failure     4521 non-null   int64  \n",
            " 50  poutcome_other       4521 non-null   int64  \n",
            " 51  poutcome_success     4521 non-null   int64  \n",
            " 52  poutcome_unknown     4521 non-null   int64  \n",
            "dtypes: float64(5), int64(48)\n",
            "memory usage: 1.8 MB\n"
          ]
        }
      ]
    },
    {
      "cell_type": "markdown",
      "source": [
        "# Произведено разбиение датасета на тернировочную/тестовую выборки"
      ],
      "metadata": {
        "id": "UW4zv9LIhxHV"
      }
    },
    {
      "cell_type": "markdown",
      "source": [
        "В нашем датасете с Kaggle изначально было произведено разбиение на тестовую и тренировочную выборку, поэтому test будет использоваться как отложенная выборка.\n",
        "\n",
        "Но несмотря на это я всё равно хочу попробовать разбить данные самостоятельно и посмотреть на результаты обучения модели логистической регрессии."
      ],
      "metadata": {
        "id": "aELE9bUf99Sw"
      }
    },
    {
      "cell_type": "markdown",
      "source": [
        "Получается, что в тествой выборке у меня 4500 значений, а в тренировочной 45000 - в изначальных данных"
      ],
      "metadata": {
        "id": "hFt7zyAKsC3s"
      }
    },
    {
      "cell_type": "markdown",
      "source": [
        "**Уберём лишний слобец Unnamed**"
      ],
      "metadata": {
        "id": "MUxC1LWyXSaV"
      }
    },
    {
      "cell_type": "code",
      "source": [
        "X = df_train.drop(['y', 'Unnamed: 0'], axis = 1) #здесь будут все колонки, кроме целевой переменной\n",
        "y = df_train['y']\n",
        "\n",
        "X_train, X_test, y_train, y_test = train_test_split(X, y, random_state=2023, test_size=0.25)"
      ],
      "metadata": {
        "id": "tiKH3jb_y59p"
      },
      "execution_count": 13,
      "outputs": []
    },
    {
      "cell_type": "markdown",
      "source": [
        "После делеения тестовой выборки на тестовую и тренировочную выборку получается такие размерности новых тестовых и тренировочных выборок"
      ],
      "metadata": {
        "id": "TgqnoLS9s3JD"
      }
    },
    {
      "cell_type": "code",
      "source": [
        "print('Размерность X_train', X_train.shape)\n",
        "print('Размерность X_test', X_test.shape)"
      ],
      "metadata": {
        "colab": {
          "base_uri": "https://localhost:8080/"
        },
        "id": "vHnJEmUSsrHI",
        "outputId": "9986569d-d51f-4c34-969b-f9472ef2e44a"
      },
      "execution_count": 14,
      "outputs": [
        {
          "output_type": "stream",
          "name": "stdout",
          "text": [
            "Размерность X_train (33908, 51)\n",
            "Размерность X_test (11303, 51)\n"
          ]
        }
      ]
    },
    {
      "cell_type": "markdown",
      "source": [
        "Навярняка я масштабирую здесь зря так как все мои данные нормализованы, не нужная часть кода\n",
        "(scaler = StandardScaler()\n",
        "\n",
        "X_train_scaled = pd.DataFrame(\n",
        "    scaler.fit_transform(X_train),\n",
        "    columns=X_train.columns\n",
        ")\n",
        "X_test_scaled = pd.DataFrame(\n",
        "    scaler.transform(X_test),\n",
        "    columns=X_test.columns\n",
        "))"
      ],
      "metadata": {
        "id": "EnQFndM2lvC2"
      }
    },
    {
      "cell_type": "markdown",
      "source": [
        "# Построение моделей"
      ],
      "metadata": {
        "id": "Bn-s2A75rdEt"
      }
    },
    {
      "cell_type": "markdown",
      "source": [
        "Построим baseline модель и модель логистической регрессии.\n",
        "Посмотретим зависимость наличия депозита от всех остальных данных имеющихся в выборке."
      ],
      "metadata": {
        "id": "zTCljuuaYn2x"
      }
    },
    {
      "cell_type": "code",
      "source": [
        "dummy_clf = DummyClassifier(strategy=\"most_frequent\")\n",
        "\n",
        "dummy_clf.fit(X_train, y_train)\n",
        "y_pred_dummy = dummy_clf.predict(X_test)\n",
        "\n",
        "accuracy_score(y_test, y_pred_dummy)"
      ],
      "metadata": {
        "id": "XzlxQq3PzLs6",
        "colab": {
          "base_uri": "https://localhost:8080/"
        },
        "outputId": "6a5e2694-a561-4c03-9fb8-5f01a6aba3f9"
      },
      "execution_count": 15,
      "outputs": [
        {
          "output_type": "execute_result",
          "data": {
            "text/plain": [
              "0.8790586569937184"
            ]
          },
          "metadata": {},
          "execution_count": 15
        }
      ]
    },
    {
      "cell_type": "markdown",
      "source": [
        "Точность baseline модели = 0.879, что уже хорошо, более того baseline модель не показывет ложных ответов\n",
        "\n"
      ],
      "metadata": {
        "id": "c7_GtLuesE_0"
      }
    },
    {
      "cell_type": "code",
      "source": [
        "confusion_matrix(y_test, y_pred_dummy)"
      ],
      "metadata": {
        "colab": {
          "base_uri": "https://localhost:8080/"
        },
        "id": "dqIpiIUgnaBu",
        "outputId": "f0beab82-4ede-4b27-d4d9-a9c28a299f97"
      },
      "execution_count": 16,
      "outputs": [
        {
          "output_type": "execute_result",
          "data": {
            "text/plain": [
              "array([[9936,    0],\n",
              "       [1367,    0]])"
            ]
          },
          "metadata": {},
          "execution_count": 16
        }
      ]
    },
    {
      "cell_type": "markdown",
      "source": [
        "Построим частный случай классификации, а именно логистическую регрессию"
      ],
      "metadata": {
        "id": "La4ep5QLcxYj"
      }
    },
    {
      "cell_type": "code",
      "source": [
        "lr = LogisticRegression()\n",
        "lr.fit(X_train, y_train)\n",
        "y_pred_lr = lr.predict(X_test)\n",
        "accuracy_score(y_test, y_pred_lr)"
      ],
      "metadata": {
        "colab": {
          "base_uri": "https://localhost:8080/"
        },
        "id": "DNQKu1-EzRPZ",
        "outputId": "21078427-ee0b-4db2-932a-53007cb187e2"
      },
      "execution_count": 17,
      "outputs": [
        {
          "output_type": "execute_result",
          "data": {
            "text/plain": [
              "0.8973723790144209"
            ]
          },
          "metadata": {},
          "execution_count": 17
        }
      ]
    },
    {
      "cell_type": "markdown",
      "source": [
        "Точность логистической регрессии получалась 0.897, то есть выше, чем у baseline"
      ],
      "metadata": {
        "id": "L_wkbdMpgAyQ"
      }
    },
    {
      "cell_type": "code",
      "source": [
        "confusion_matrix(y_test, y_pred_lr)"
      ],
      "metadata": {
        "colab": {
          "base_uri": "https://localhost:8080/"
        },
        "id": "JfKs5V2mndPx",
        "outputId": "1cb5e433-1a9c-43b4-8e52-83d5cd40616a"
      },
      "execution_count": 18,
      "outputs": [
        {
          "output_type": "execute_result",
          "data": {
            "text/plain": [
              "array([[9703,  233],\n",
              "       [ 927,  440]])"
            ]
          },
          "metadata": {},
          "execution_count": 18
        }
      ]
    },
    {
      "cell_type": "markdown",
      "source": [
        "Согласно, матрице ложно положительные и ложно отрицательные ответы существуют.\n",
        "Построим более красивую версию матрицы"
      ],
      "metadata": {
        "id": "T5_iJR8XevoC"
      }
    },
    {
      "cell_type": "code",
      "source": [
        "log = lr.predict(X_test)\n",
        "conf_matrix = confusion_matrix(y_test, y_pred_lr)\n",
        "plt.figure(figsize=(6, 4))\n",
        "sns.heatmap(conf_matrix, annot=True, fmt='d', cmap='Reds', linewidths=.5, cbar=False)\n",
        "plt.title('Confusion Matrix')\n",
        "plt.xlabel('Predicted')\n",
        "plt.ylabel('Actual')\n",
        "plt.show()"
      ],
      "metadata": {
        "id": "YVegzba6hk09",
        "colab": {
          "base_uri": "https://localhost:8080/",
          "height": 410
        },
        "outputId": "d41a098e-d1db-404a-9942-5d36d38a2c6b"
      },
      "execution_count": 19,
      "outputs": [
        {
          "output_type": "display_data",
          "data": {
            "text/plain": [
              "<Figure size 600x400 with 1 Axes>"
            ],
            "image/png": "[encoded data removed]"
          },
          "metadata": {}
        }
      ]
    },
    {
      "cell_type": "code",
      "source": [
        "print(classification_report(y_test, y_pred_lr))"
      ],
      "metadata": {
        "id": "uyxvClQdhmm5",
        "colab": {
          "base_uri": "https://localhost:8080/"
        },
        "outputId": "c38bc5de-f572-4048-812f-10754bd8baa7"
      },
      "execution_count": 20,
      "outputs": [
        {
          "output_type": "stream",
          "name": "stdout",
          "text": [
            "              precision    recall  f1-score   support\n",
            "\n",
            "           0       0.91      0.98      0.94      9936\n",
            "           1       0.65      0.32      0.43      1367\n",
            "\n",
            "    accuracy                           0.90     11303\n",
            "   macro avg       0.78      0.65      0.69     11303\n",
            "weighted avg       0.88      0.90      0.88     11303\n",
            "\n"
          ]
        }
      ]
    },
    {
      "cell_type": "markdown",
      "source": [
        "Согласно отчёту, наша модель имеет точность 0.90 и при этои процент нахождения объектов класс 0 - 94%, а 1 - 43% и подсвечивает дисбаланс классов и делает точность модели не ценной для оценки так как не отражет полезной информации"
      ],
      "metadata": {
        "id": "LAcwUTROd35z"
      }
    },
    {
      "cell_type": "markdown",
      "source": [
        "Процент первого класса среди найденых \"1\" около 50%, что тоже не очень верно, относительно состояния имеющегося параметра \"y\""
      ],
      "metadata": {
        "id": "sFlty_qaimvK"
      }
    },
    {
      "cell_type": "code",
      "source": [
        "sns.countplot(x='y', data=df_test, palette='hls')"
      ],
      "metadata": {
        "colab": {
          "base_uri": "https://localhost:8080/",
          "height": 466
        },
        "id": "rX-UsMRcmu0U",
        "outputId": "1d26e6da-a2f5-47f9-f8f6-63e68bfa7e34"
      },
      "execution_count": 21,
      "outputs": [
        {
          "output_type": "execute_result",
          "data": {
            "text/plain": [
              "<Axes: xlabel='y', ylabel='count'>"
            ]
          },
          "metadata": {},
          "execution_count": 21
        },
        {
          "output_type": "display_data",
          "data": {
            "text/plain": [
              "<Figure size 640x480 with 1 Axes>"
            ],
            "image/png": "[encoded data removed]"
          },
          "metadata": {}
        }
      ]
    },
    {
      "cell_type": "code",
      "source": [
        "print(f'Precision for Dummy Classificator: {precision_score(y_test, y_pred_dummy, zero_division=0)}')\n",
        "print(f'Precision for Logistic regression: {precision_score(y_test, y_pred_lr, zero_division=0)}')"
      ],
      "metadata": {
        "colab": {
          "base_uri": "https://localhost:8080/"
        },
        "id": "gPlHJRxTiQj9",
        "outputId": "994ca959-4bba-412e-cb39-386f4adbc052"
      },
      "execution_count": 22,
      "outputs": [
        {
          "output_type": "stream",
          "name": "stdout",
          "text": [
            "Precision for Dummy Classificator: 0.0\n",
            "Precision for Logistic regression: 0.6537890044576523\n"
          ]
        }
      ]
    },
    {
      "cell_type": "markdown",
      "source": [
        "Как видно наша модель логистической регрессии плохо находит объекты по классам, то есть 0.65"
      ],
      "metadata": {
        "id": "QhgjsrViieGm"
      }
    },
    {
      "cell_type": "code",
      "source": [
        "print(f'Recall for Dummy Classificator: {recall_score(y_test, y_pred_dummy)}')\n",
        "print(f'Recall for Logistic regression: {recall_score(y_test, y_pred_lr)}')"
      ],
      "metadata": {
        "colab": {
          "base_uri": "https://localhost:8080/"
        },
        "id": "r0y--Ns2iR81",
        "outputId": "18b82d76-5471-4dbf-c2e2-f41c76793ba3"
      },
      "execution_count": 23,
      "outputs": [
        {
          "output_type": "stream",
          "name": "stdout",
          "text": [
            "Recall for Dummy Classificator: 0.0\n",
            "Recall for Logistic regression: 0.3218727139722019\n"
          ]
        }
      ]
    },
    {
      "cell_type": "markdown",
      "source": [
        "F1 стремится к нулю, получается модель справляется хорошо?\n",
        "В нашем случае F1 - 43%"
      ],
      "metadata": {
        "id": "bW2tA8u6mNHC"
      }
    },
    {
      "cell_type": "code",
      "source": [
        "print(f'F1-score for Dummy Classificator: {f1_score(y_test, y_pred_dummy)}')\n",
        "print(f'F1-score for Logistic regression: {f1_score(y_test, y_pred_lr)}')"
      ],
      "metadata": {
        "colab": {
          "base_uri": "https://localhost:8080/"
        },
        "id": "VfSePZ8Qi6pJ",
        "outputId": "25f5e745-d4a0-4c63-fc0e-9644d22f5f11"
      },
      "execution_count": 24,
      "outputs": [
        {
          "output_type": "stream",
          "name": "stdout",
          "text": [
            "F1-score for Dummy Classificator: 0.0\n",
            "F1-score for Logistic regression: 0.43137254901960786\n"
          ]
        }
      ]
    },
    {
      "cell_type": "code",
      "source": [
        "y_pred = lr.predict_proba(X_test)[:, 1]"
      ],
      "metadata": {
        "id": "s3TfogG4jNXP"
      },
      "execution_count": 25,
      "outputs": []
    },
    {
      "cell_type": "markdown",
      "source": [
        "Чтобы улутшить значения precision и recall нужно иначе разбить данные или не нормализовавыывать их так?\n",
        "И хотелось посмотреть на кривые метрик и они тоже показывают что что-то я сделала нее так."
      ],
      "metadata": {
        "id": "KGaPtI9coAbJ"
      }
    },
    {
      "cell_type": "code",
      "source": [
        "precision, recall, thresholds = precision_recall_curve(y_test, y_pred)\n",
        "\n",
        "no_skill = len(y_test[y_test == 1]) / len(y_test)\n",
        "\n",
        "plt.plot([0,1], [no_skill, no_skill], linestyle='--', label='No Skill')\n",
        "plt.plot(recall, precision, marker='.', label='Logistic')\n",
        "plt.xlabel('Recall')\n",
        "plt.ylabel('Precision')\n",
        "plt.legend()\n",
        "plt.grid()\n",
        "plt.show()"
      ],
      "metadata": {
        "colab": {
          "base_uri": "https://localhost:8080/",
          "height": 449
        },
        "id": "AUzTRVfLjRn3",
        "outputId": "c19222cf-081c-4acf-9964-e51e64762587"
      },
      "execution_count": 26,
      "outputs": [
        {
          "output_type": "display_data",
          "data": {
            "text/plain": [
              "<Figure size 640x480 with 1 Axes>"
            ],
            "image/png": "[encoded data removed]"
          },
          "metadata": {}
        }
      ]
    }
  ]
}